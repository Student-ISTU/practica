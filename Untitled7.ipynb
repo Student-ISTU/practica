{
 "cells": [
  {
   "cell_type": "markdown",
   "metadata": {},
   "source": [
    "# Задача 1"
   ]
  },
  {
   "cell_type": "code",
   "execution_count": 9,
   "metadata": {},
   "outputs": [
    {
     "name": "stdout",
     "output_type": "stream",
     "text": [
      "6\n",
      "2\n",
      "7\n",
      "8\n",
      "2\n"
     ]
    }
   ],
   "source": [
    "a = int(input())\n",
    "b = int(input())\n",
    "c = int(input())\n",
    "d = int(input())\n",
    "def min4(q, w, e, r):\n",
    "    n = min(q,w)\n",
    "    n = min(n, e)\n",
    "    n = min(n, r)\n",
    "    return n\n",
    "x = min4(a, b, c, d)\n",
    "print(x)"
   ]
  },
  {
   "cell_type": "markdown",
   "metadata": {},
   "source": [
    "# Задача 2"
   ]
  },
  {
   "cell_type": "code",
   "execution_count": 10,
   "metadata": {},
   "outputs": [
    {
     "name": "stdout",
     "output_type": "stream",
     "text": [
      "0\n",
      "0\n",
      "1\n",
      "1\n",
      "1.4142135623730951\n"
     ]
    }
   ],
   "source": [
    "from math import sqrt\n",
    "xa = float(input())\n",
    "ya = float(input())\n",
    "xb = float(input())\n",
    "yb = float(input())\n",
    "def distance(x1, y1, x2, y2):\n",
    "    d = sqrt((x2-x1)**2+(y2-y1)**2)\n",
    "    return d\n",
    "ab = distance(xa, ya, xb, yb)\n",
    "print(ab)"
   ]
  },
  {
   "cell_type": "markdown",
   "metadata": {},
   "source": [
    "# Задача 3"
   ]
  },
  {
   "cell_type": "code",
   "execution_count": 13,
   "metadata": {},
   "outputs": [
    {
     "name": "stdout",
     "output_type": "stream",
     "text": [
      "4\n",
      "1\n",
      "0\n",
      "4\n",
      "1\n",
      "0\n",
      "12.285383285786041\n"
     ]
    }
   ],
   "source": [
    "xa = float(input())\n",
    "ya = float(input())\n",
    "xb = float(input())\n",
    "yb = float(input())\n",
    "xc = float(input())\n",
    "yc = float(input())\n",
    "def f(x1, y1, x2, y2, x3, y3):\n",
    "    p = sqrt((x1-x2)**2+(y1-y2)**2)+sqrt((x3-x2)**2+(y3-y2)**2)+sqrt((x1-x3)**2+(y1-y3)**2)\n",
    "    return p\n",
    "print(f(xa, ya, xb, yb, xc, yc))"
   ]
  },
  {
   "cell_type": "markdown",
   "metadata": {},
   "source": [
    "# Задача 4"
   ]
  },
  {
   "cell_type": "code",
   "execution_count": 14,
   "metadata": {},
   "outputs": [
    {
     "name": "stdout",
     "output_type": "stream",
     "text": [
      "0\n",
      "0\n",
      "YES\n"
     ]
    }
   ],
   "source": [
    "x = float(input())\n",
    "y = float(input())\n",
    "def IsPointInSquare(x, y):\n",
    "    return -1 <= x<= 1 and -1 <= y <= 1\n",
    "b = IsPointSquare(x, y)\n",
    "if b==True:\n",
    "    print(\"YES\")\n",
    "else:\n",
    "    print(\"NO\")"
   ]
  },
  {
   "cell_type": "markdown",
   "metadata": {},
   "source": [
    "# Задача 5"
   ]
  },
  {
   "cell_type": "code",
   "execution_count": 4,
   "metadata": {},
   "outputs": [
    {
     "name": "stdout",
     "output_type": "stream",
     "text": [
      "1\n",
      "1\n",
      "NO\n"
     ]
    }
   ],
   "source": [
    "from math import sqrt\n",
    "a = float(input())\n",
    "c = float(input())\n",
    "def IsPointInSquare(x, y):\n",
    "    return x<=sqrt(2) and x>=-sqrt(2) and y<=sqrt(2) and y>=-sqrt(2) and x!=y\n",
    "b = IsPointInSquare(a, c)\n",
    "if b==True:\n",
    "    print(\"YES\")\n",
    "else:\n",
    "    print(\"NO\")"
   ]
  },
  {
   "cell_type": "markdown",
   "metadata": {},
   "source": [
    "# Задача 6"
   ]
  },
  {
   "cell_type": "code",
   "execution_count": 7,
   "metadata": {},
   "outputs": [
    {
     "name": "stdout",
     "output_type": "stream",
     "text": [
      "4\n",
      "1\n",
      "2\n",
      "5\n",
      "1\n",
      "NO\n"
     ]
    }
   ],
   "source": [
    "def IsPointInCircle(x, y, xc, yc, r):\n",
    "    return (\"YES\" if (x - xc) ** 2 + (y - yc) ** 2 <= r * r else \"NO\")\n",
    " \n",
    "def main():\n",
    "    x, y, xc, yc, r = (float(input()) for i in range(5))\n",
    "    print(IsPointInCircle(x, y, xc, yc, r))\n",
    "    \n",
    "if __name__ == \"__main__\":\n",
    "    main()"
   ]
  },
  {
   "cell_type": "markdown",
   "metadata": {},
   "source": [
    "# Задача 7"
   ]
  },
  {
   "cell_type": "code",
   "execution_count": 10,
   "metadata": {},
   "outputs": [
    {
     "name": "stdout",
     "output_type": "stream",
     "text": [
      "4\n",
      "1\n",
      "NO\n"
     ]
    }
   ],
   "source": [
    "from math import fabs\n",
    "def IsPointInArea(x, y):\n",
    "    in_circle = 2 * 2 >= abs(x + 1) * abs(x + 1) + abs(y - 1) * abs(y - 1)\n",
    "    above_line1 = y >= 2 * x + 2\n",
    "    above_line2 = y >= -x\n",
    "    below_line1 = y <= 2 * x + 2\n",
    "    below_line2 = y <= -x\n",
    "    on_circle = 2 * 2 == abs(x + 1) * abs(x + 1) + abs(y - 1) * abs(y - 1)\n",
    "    return in_circle and above_line1 and above_line2 or (on_circle or not in_circle) and below_line1 and below_line2\n",
    "x = float(input())\n",
    "y = float(input())\n",
    "if (IsPointInArea(x, y)):\n",
    "    print(\"YES\")\n",
    "else:\n",
    "    print(\"NO\")"
   ]
  },
  {
   "cell_type": "markdown",
   "metadata": {},
   "source": [
    "# Задача 8"
   ]
  },
  {
   "cell_type": "code",
   "execution_count": 11,
   "metadata": {},
   "outputs": [
    {
     "name": "stdout",
     "output_type": "stream",
     "text": [
      "0\n",
      "1\n",
      "True\n"
     ]
    }
   ],
   "source": [
    "def xor():\n",
    "    a = int(input())\n",
    "    b = int(input())\n",
    "    return a!=b and (a==0 or b==0)\n",
    "print(xor())"
   ]
  },
  {
   "cell_type": "markdown",
   "metadata": {},
   "source": [
    "# Задача 9"
   ]
  },
  {
   "cell_type": "code",
   "execution_count": 12,
   "metadata": {},
   "outputs": [
    {
     "name": "stdout",
     "output_type": "stream",
     "text": [
      "8\n",
      "2\n"
     ]
    }
   ],
   "source": [
    "n = int(input())\n",
    "def MinDivisor(n):\n",
    "    i = 2\n",
    "    while i<=n:\n",
    "        if n%i==0:\n",
    "            return i\n",
    "            break\n",
    "        i+=1\n",
    "print(MinDivisor(n))"
   ]
  },
  {
   "cell_type": "markdown",
   "metadata": {},
   "source": [
    "# Задача 10"
   ]
  },
  {
   "cell_type": "code",
   "execution_count": 13,
   "metadata": {},
   "outputs": [
    {
     "name": "stdout",
     "output_type": "stream",
     "text": [
      "11\n",
      "YES\n"
     ]
    }
   ],
   "source": [
    "n = int(input())\n",
    "def MinDivisor(n):\n",
    "    i = 2\n",
    "    while i<n:\n",
    "        if n%i==0:\n",
    "            return False\n",
    "            break\n",
    "        i+=1\n",
    "    return True\n",
    "if MinDivisor(n):\n",
    "    print(\"YES\")\n",
    "else:\n",
    "    print(\"NO\")"
   ]
  },
  {
   "cell_type": "markdown",
   "metadata": {},
   "source": [
    "# Задача 12"
   ]
  },
  {
   "cell_type": "code",
   "execution_count": 14,
   "metadata": {},
   "outputs": [
    {
     "name": "stdout",
     "output_type": "stream",
     "text": [
      "2\n",
      "5\n",
      "32.0\n"
     ]
    }
   ],
   "source": [
    "a = float(input())\n",
    "n = int(input())\n",
    "def power(x, y):\n",
    "    return x*x**(y-1)\n",
    "print(power(a, n))"
   ]
  },
  {
   "cell_type": "markdown",
   "metadata": {},
   "source": [
    "# Задача 13"
   ]
  },
  {
   "cell_type": "code",
   "execution_count": 15,
   "metadata": {},
   "outputs": [
    {
     "name": "stdout",
     "output_type": "stream",
     "text": [
      "3\n",
      "2\n",
      "9.0\n"
     ]
    }
   ],
   "source": [
    "a = float(input())\n",
    "n = int(input())\n",
    "def power(x, y):\n",
    "    return x*x**(y-1)\n",
    "print(power(a, n))"
   ]
  },
  {
   "cell_type": "markdown",
   "metadata": {},
   "source": [
    "# Задача 14"
   ]
  },
  {
   "cell_type": "code",
   "execution_count": 17,
   "metadata": {},
   "outputs": [
    {
     "name": "stdout",
     "output_type": "stream",
     "text": [
      "2\n",
      "4\n",
      "6\n"
     ]
    }
   ],
   "source": [
    "a = int(input())\n",
    "b = int(input())\n",
    "def summa(a, b):\n",
    "    if (b>0):\n",
    "        return summa(a+1,b-1)\n",
    "    else:\n",
    "        return a\n",
    "print(summa(a, b))"
   ]
  },
  {
   "cell_type": "markdown",
   "metadata": {},
   "source": [
    "# Задача 15"
   ]
  },
  {
   "cell_type": "code",
   "execution_count": 18,
   "metadata": {},
   "outputs": [
    {
     "name": "stdout",
     "output_type": "stream",
     "text": [
      "2\n",
      "8\n",
      "256.0\n"
     ]
    }
   ],
   "source": [
    "def power(a, n):\n",
    "    if n == 0:\n",
    "        return 1\n",
    "    elif n == 1:\n",
    "        return a\n",
    "    elif n % 2 != 0:\n",
    "        return a * power(a, n-1)\n",
    "    elif n % 2 == 0:\n",
    "        return power(a*a, n/2)\n",
    " \n",
    " \n",
    "a = float(input())\n",
    "n = int(input())\n",
    "print(power(a, n))"
   ]
  },
  {
   "cell_type": "markdown",
   "metadata": {},
   "source": [
    "# Задача 16"
   ]
  },
  {
   "cell_type": "code",
   "execution_count": 19,
   "metadata": {},
   "outputs": [
    {
     "name": "stdout",
     "output_type": "stream",
     "text": [
      "5\n",
      "3\n",
      "1\n"
     ]
    }
   ],
   "source": [
    "a = int(input())\n",
    "b = int(input())\n",
    " \n",
    "while a!=0 and b!=0:\n",
    "    if a > b:\n",
    "        a = a % b\n",
    "    else:\n",
    "        b = b % a\n",
    "print(a+b)"
   ]
  },
  {
   "cell_type": "markdown",
   "metadata": {},
   "source": [
    "# Задача 17"
   ]
  },
  {
   "cell_type": "code",
   "execution_count": 20,
   "metadata": {},
   "outputs": [
    {
     "name": "stdout",
     "output_type": "stream",
     "text": [
      "4\n",
      "5\n",
      "4 5\n"
     ]
    }
   ],
   "source": [
    "a = int(input())\n",
    "b = int(input())\n",
    " \n",
    "v = a\n",
    "g = b\n",
    "while v != 0 and g != 0:\n",
    "    if v > g:\n",
    "        v = v % v\n",
    "    else:\n",
    "        g = g % v\n",
    " \n",
    "if a == 0:\n",
    "    c = v\n",
    "    print(a // c, b // c)\n",
    "else:\n",
    "    c = g\n",
    "    print(a // c, b // c)"
   ]
  },
  {
   "cell_type": "markdown",
   "metadata": {},
   "source": [
    "# Задача 18"
   ]
  },
  {
   "cell_type": "code",
   "execution_count": 21,
   "metadata": {},
   "outputs": [
    {
     "name": "stdout",
     "output_type": "stream",
     "text": [
      "4\n",
      "3\n"
     ]
    }
   ],
   "source": [
    "def fib(n):\n",
    "    if n == 1 or n == 2:\n",
    "        return 1\n",
    "    else:\n",
    "        return fib(n - 1) + fib(n - 2)\n",
    " \n",
    "print(fib(int(input())))"
   ]
  },
  {
   "cell_type": "markdown",
   "metadata": {},
   "source": [
    "# Задача 19"
   ]
  },
  {
   "cell_type": "code",
   "execution_count": 22,
   "metadata": {},
   "outputs": [
    {
     "name": "stdout",
     "output_type": "stream",
     "text": [
      "8\n",
      "3\n",
      "5\n",
      "7\n",
      "2\n",
      "5\n",
      "0\n",
      "30\n"
     ]
    }
   ],
   "source": [
    "def sum(summary=0):\n",
    "    num = -1\n",
    "    try:\n",
    "        num = int(input())\n",
    "    except ValueError as err:\n",
    "        print(err)\n",
    "        print('Enter the number') \n",
    "    else:\n",
    "        summary += num\n",
    "    if num != 0:\n",
    "        return sum(summary)\n",
    "    return summary\n",
    "    \n",
    "print(sum())"
   ]
  },
  {
   "cell_type": "markdown",
   "metadata": {},
   "source": [
    "# Задача 20"
   ]
  },
  {
   "cell_type": "code",
   "execution_count": 23,
   "metadata": {},
   "outputs": [
    {
     "name": "stdout",
     "output_type": "stream",
     "text": [
      "5\n",
      "1\n",
      "4\n",
      "0\n",
      "0\n",
      "4\n",
      "1\n",
      "5\n"
     ]
    }
   ],
   "source": [
    "def reverse():\n",
    "    x = int(input())\n",
    "    if x != 0:\n",
    "        reverse()\n",
    "    print(x)\n",
    "reverse()"
   ]
  },
  {
   "cell_type": "markdown",
   "metadata": {},
   "source": [
    "# Задача 21"
   ]
  },
  {
   "cell_type": "code",
   "execution_count": 24,
   "metadata": {},
   "outputs": [
    {
     "name": "stdout",
     "output_type": "stream",
     "text": [
      "4\n",
      "1 1 2\n",
      "2 1 3\n",
      "1 2 3\n",
      "3 1 2\n",
      "1 3 1\n",
      "2 3 2\n",
      "1 1 2\n",
      "4 1 3\n",
      "1 2 1\n",
      "2 2 3\n",
      "1 1 2\n"
     ]
    }
   ],
   "source": [
    "def f(n, x, y):\n",
    "    if n > 0:\n",
    "        f(n - 1, x, 6 - x - y)\n",
    "        print(n, x, y)\n",
    "        f(n - 1, 6 - x - y, y)\n",
    " \n",
    " \n",
    "def sortF(n, x, y):\n",
    "    if n > 0:\n",
    "        f(n - 1, x, 6 - x - y)\n",
    "        print(n, x, y)\n",
    "        if n > 3:\n",
    "            f(n - 3, 6 - x - y, x)\n",
    "        if n > 2:\n",
    "            print(n - 2, 6 - x - y, y)\n",
    "        if n > 3:\n",
    "            sortF(n - 3, x, 6 - x - y)\n",
    " \n",
    " \n",
    "n = int(input())\n",
    "if n % 2 == 0:\n",
    "    sortF(n, 1, 3)\n",
    "else:\n",
    "    sortF(n, 1, 2)"
   ]
  },
  {
   "cell_type": "markdown",
   "metadata": {},
   "source": [
    "# Задача 22"
   ]
  },
  {
   "cell_type": "code",
   "execution_count": null,
   "metadata": {},
   "outputs": [],
   "source": [
    "n = int(input())\n",
    " \n",
    "def lagrange(n):\n",
    "    for i in xrange(4):\n",
    "        s = int(n ** 0.5)\n",
    "        n = n - s ** 2\n",
    "        print s\n",
    "lagrange(n)"
   ]
  },
  {
   "cell_type": "markdown",
   "metadata": {},
   "source": [
    "# Задача 23"
   ]
  },
  {
   "cell_type": "code",
   "execution_count": 25,
   "metadata": {},
   "outputs": [
    {
     "name": "stdout",
     "output_type": "stream",
     "text": [
      "4\n",
      "1 1 1 1\n"
     ]
    }
   ],
   "source": [
    "from math import *\n",
    " \n",
    " \n",
    "def solve(n, a, t):\n",
    "    c = n\n",
    "    d = t\n",
    "    while c > 0:\n",
    "        if d > 0:\n",
    "            x = trunc(float('{0:.11f}'.format((c ** (1 / 3))))) - 1\n",
    "            d -= 1\n",
    "        else:\n",
    "            x = trunc(float('{0:.11f}'.format((c ** (1 / 3)))))\n",
    "        if x <= 1:\n",
    "            x = trunc(float('{0:.11f}'.format((c ** (1 / 3)))))\n",
    "        if d > x:\n",
    "            print(0)\n",
    "            exit(0)\n",
    "        a.append(x ** 3)\n",
    "        c -= x ** 3\n",
    "        if len(a) > 7:\n",
    "            a.clear()\n",
    "            solve(n, a, t + 1)\n",
    "    print(*a)\n",
    "    exit(0)\n",
    " \n",
    " \n",
    "a = []\n",
    "n = int(input())\n",
    "t = 0\n",
    "solve(n, a, t)"
   ]
  },
  {
   "cell_type": "markdown",
   "metadata": {},
   "source": [
    "# Задача 24"
   ]
  },
  {
   "cell_type": "code",
   "execution_count": 1,
   "metadata": {},
   "outputs": [
    {
     "name": "stdout",
     "output_type": "stream",
     "text": [
      "5\n",
      "7\n",
      "0\n",
      "0\n"
     ]
    }
   ],
   "source": [
    "def sqr():\n",
    "    n = int(input())\n",
    "    if n != 0:\n",
    "        sqr()\n",
    "        if (n ** (1 / 2)).is_integer():\n",
    "            global t\n",
    "            t = 0\n",
    "            print(n, end=' ')\n",
    " \n",
    " \n",
    "t = 1\n",
    "sqr()\n",
    "if t:\n",
    "    print(0)"
   ]
  }
 ],
 "metadata": {
  "kernelspec": {
   "display_name": "Python 3",
   "language": "python",
   "name": "python3"
  },
  "language_info": {
   "codemirror_mode": {
    "name": "ipython",
    "version": 3
   },
   "file_extension": ".py",
   "mimetype": "text/x-python",
   "name": "python",
   "nbconvert_exporter": "python",
   "pygments_lexer": "ipython3",
   "version": "3.7.6"
  }
 },
 "nbformat": 4,
 "nbformat_minor": 4
}
