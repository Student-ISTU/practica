{
 "cells": [
  {
   "cell_type": "markdown",
   "metadata": {},
   "source": [
    "# Задача 1"
   ]
  },
  {
   "cell_type": "code",
   "execution_count": 3,
   "metadata": {},
   "outputs": [
    {
     "name": "stdout",
     "output_type": "stream",
     "text": [
      "2\n",
      "5\n"
     ]
    }
   ],
   "source": [
    "n = int(input())\n",
    "s = 0\n",
    "for i in range(1, n+1):\n",
    "    s+=i*i\n",
    "print(s)"
   ]
  },
  {
   "cell_type": "markdown",
   "metadata": {},
   "source": [
    "# Задача 2"
   ]
  },
  {
   "cell_type": "code",
   "execution_count": 1,
   "metadata": {},
   "outputs": [
    {
     "name": "stdout",
     "output_type": "stream",
     "text": [
      "3\n",
      "+___ +___ +___ \n",
      "|1 / |1 / |1 / \n",
      "|__\\ |__\\ |__\\ \n",
      "|    |    |    \n"
     ]
    }
   ],
   "source": [
    "s1= \"+___ \"\n",
    "s2= \"|1 / \"\n",
    "s3= \"|__\\\\ \"\n",
    "s4= \"|    \"\n",
    "n = int(input())\n",
    "for i in range(1, n):\n",
    "    s1+=\"+___ \"\n",
    "    s2+=\"|1 / \"\n",
    "    s3+=\"|__\\\\ \"\n",
    "    s4+=\"|    \"\n",
    "print(s1)\n",
    "print(s2)\n",
    "print(s3)\n",
    "print(s4)"
   ]
  },
  {
   "cell_type": "markdown",
   "metadata": {},
   "source": [
    "# Задача 3"
   ]
  },
  {
   "cell_type": "code",
   "execution_count": 2,
   "metadata": {},
   "outputs": [
    {
     "name": "stdout",
     "output_type": "stream",
     "text": [
      "1 2 3\n",
      "3 2 1\n"
     ]
    }
   ],
   "source": [
    "s = str(input())\n",
    "print(s[::-1])"
   ]
  },
  {
   "cell_type": "markdown",
   "metadata": {},
   "source": [
    "# Задача 4"
   ]
  },
  {
   "cell_type": "code",
   "execution_count": 1,
   "metadata": {},
   "outputs": [
    {
     "name": "stdout",
     "output_type": "stream",
     "text": [
      "456132598\n",
      "2\n",
      "['4', '5', '6', '1', '3', '2', '5', '9', '8']\n"
     ]
    }
   ],
   "source": [
    "a = str(input())\n",
    "k = str(input())\n",
    "result = []\n",
    "for x in range(len(a)):\n",
    "    if x != k:\n",
    "        result.append(a[x])\n",
    "print(result)"
   ]
  },
  {
   "cell_type": "markdown",
   "metadata": {},
   "source": [
    "# Задача 5"
   ]
  },
  {
   "cell_type": "code",
   "execution_count": 4,
   "metadata": {},
   "outputs": [
    {
     "name": "stdout",
     "output_type": "stream",
     "text": [
      "1 2 3 4 5\n",
      "2 1 4 3 5\n"
     ]
    }
   ],
   "source": [
    "a = [int(i) for i in input().split()]\n",
    "for i in range(1, len(a), 2):\n",
    "    a[i - 1], a[i] = a[i], a[i - 1]\n",
    "print(' '.join([str(i) for i in a]))"
   ]
  },
  {
   "cell_type": "markdown",
   "metadata": {},
   "source": [
    "# Задача 6"
   ]
  },
  {
   "cell_type": "code",
   "execution_count": 6,
   "metadata": {},
   "outputs": [
    {
     "name": "stdout",
     "output_type": "stream",
     "text": [
      "1 0 2 0 0 0 3 5 0 4\n",
      "1 2 3 5 4 0 0 0 0 0\n"
     ]
    }
   ],
   "source": [
    "lst = input().split()\n",
    "for i in reversed(range(len(lst))):\n",
    "    if lst[i] == '0':\n",
    "        lst.append(lst.pop(i))\n",
    "print(*lst)"
   ]
  },
  {
   "cell_type": "markdown",
   "metadata": {},
   "source": [
    "# Задача 7"
   ]
  },
  {
   "cell_type": "code",
   "execution_count": 7,
   "metadata": {},
   "outputs": [
    {
     "name": "stdout",
     "output_type": "stream",
     "text": [
      "3\n",
      "0\n",
      "2\n",
      "1\n",
      "0 1 2\n"
     ]
    }
   ],
   "source": [
    "k = int(input())\n",
    "N = [int(input()) for i in range(k)]\n",
    "print(*sorted(N))"
   ]
  },
  {
   "cell_type": "markdown",
   "metadata": {},
   "source": [
    "# Задача 8"
   ]
  },
  {
   "cell_type": "code",
   "execution_count": 10,
   "metadata": {},
   "outputs": [
    {
     "name": "stdout",
     "output_type": "stream",
     "text": [
      "12 45 666 789 85\n",
      "2\n",
      "0\n",
      "3\n",
      "1\n",
      "2\n",
      "3\n",
      "0\n",
      "4\n",
      "5\n",
      "6\n",
      "7\n",
      "8\n",
      "9\n",
      "74\n",
      "4123\n",
      "45\n",
      "2\n",
      "5\n",
      "45\n",
      "4\n",
      "9\n",
      "9\n",
      "9\n",
      "9\n",
      "9\n",
      "9\n",
      "9\n",
      "9\n",
      "9\n",
      "9\n",
      "9\n",
      "9\n",
      "99\n",
      "9\n",
      "9\n",
      "9\n",
      "99\n",
      "9\n",
      "9\n",
      "9\n",
      "9\n",
      "9\n",
      "9\n",
      "9\n",
      "9\n",
      "7\n"
     ]
    }
   ],
   "source": [
    "sn = list(map(int, input().split()))\n",
    "s = sn[0] \n",
    "n = sn[1] \n",
    "t = [] \n",
    "numUser = 0 \n",
    "sumUser = 0 \n",
    "pukUser = 0 \n",
    "while numUser < n:\n",
    "    vUser = int(input()) \n",
    "    numUser += 1 \n",
    "    t.append(vUser)\n",
    "t.sort() \n",
    "for i in t:\n",
    "    if sumUser < s: \n",
    "        sumUser += i \n",
    "        if sumUser < s: \n",
    "            pukUser += 1 \n",
    "print(pukUser)"
   ]
  },
  {
   "cell_type": "markdown",
   "metadata": {},
   "source": [
    "# Задача 9"
   ]
  },
  {
   "cell_type": "code",
   "execution_count": 1,
   "metadata": {},
   "outputs": [
    {
     "name": "stdout",
     "output_type": "stream",
     "text": [
      "5\n",
      "1 50 3 4 3\n",
      "16\n",
      "1 2 3 4 5 1 3 3 4 5 5 5 5 5 4 5\n"
     ]
    },
    {
     "ename": "TypeError",
     "evalue": "'map' object is not subscriptable",
     "output_type": "error",
     "traceback": [
      "\u001b[1;31m---------------------------------------------------------------------------\u001b[0m",
      "\u001b[1;31mTypeError\u001b[0m                                 Traceback (most recent call last)",
      "\u001b[1;32m<ipython-input-1-57755bf61709>\u001b[0m in \u001b[0;36m<module>\u001b[1;34m\u001b[0m\n\u001b[0;32m      5\u001b[0m \u001b[0mdict_clic\u001b[0m \u001b[1;33m=\u001b[0m \u001b[1;33m{\u001b[0m\u001b[1;33m}\u001b[0m\u001b[1;33m\u001b[0m\u001b[1;33m\u001b[0m\u001b[0m\n\u001b[0;32m      6\u001b[0m \u001b[1;32mfor\u001b[0m \u001b[0mi\u001b[0m \u001b[1;32min\u001b[0m \u001b[0mrange\u001b[0m\u001b[1;33m(\u001b[0m\u001b[0mnumber_press\u001b[0m\u001b[1;33m)\u001b[0m\u001b[1;33m:\u001b[0m\u001b[1;33m\u001b[0m\u001b[1;33m\u001b[0m\u001b[0m\n\u001b[1;32m----> 7\u001b[1;33m     \u001b[0mdict_clic\u001b[0m\u001b[1;33m[\u001b[0m\u001b[0mspb\u001b[0m\u001b[1;33m[\u001b[0m\u001b[0mi\u001b[0m\u001b[1;33m]\u001b[0m\u001b[1;33m]\u001b[0m \u001b[1;33m=\u001b[0m \u001b[0mdict_clic\u001b[0m\u001b[1;33m.\u001b[0m\u001b[0mget\u001b[0m\u001b[1;33m(\u001b[0m\u001b[0mspb\u001b[0m\u001b[1;33m[\u001b[0m\u001b[0mi\u001b[0m\u001b[1;33m]\u001b[0m\u001b[1;33m,\u001b[0m\u001b[1;36m0\u001b[0m\u001b[1;33m)\u001b[0m\u001b[1;33m+\u001b[0m\u001b[1;36m1\u001b[0m\u001b[1;33m\u001b[0m\u001b[1;33m\u001b[0m\u001b[0m\n\u001b[0m\u001b[0;32m      8\u001b[0m \u001b[1;32mfor\u001b[0m \u001b[0mi\u001b[0m \u001b[1;32min\u001b[0m \u001b[0mrange\u001b[0m\u001b[1;33m(\u001b[0m\u001b[0mbutton\u001b[0m\u001b[1;33m)\u001b[0m\u001b[1;33m:\u001b[0m\u001b[1;33m\u001b[0m\u001b[1;33m\u001b[0m\u001b[0m\n\u001b[0;32m      9\u001b[0m     \u001b[0mprint\u001b[0m\u001b[1;33m(\u001b[0m\u001b[1;33m(\u001b[0m\u001b[1;34m'NO'\u001b[0m\u001b[1;33m,\u001b[0m\u001b[1;34m'YES'\u001b[0m\u001b[1;33m)\u001b[0m\u001b[1;33m[\u001b[0m\u001b[0mdict_clic\u001b[0m\u001b[1;33m[\u001b[0m\u001b[0mi\u001b[0m\u001b[1;33m+\u001b[0m\u001b[1;36m1\u001b[0m\u001b[1;33m]\u001b[0m \u001b[1;33m>\u001b[0m \u001b[0mnorm_press_button\u001b[0m\u001b[1;33m[\u001b[0m\u001b[0mi\u001b[0m\u001b[1;33m]\u001b[0m\u001b[1;33m]\u001b[0m\u001b[1;33m)\u001b[0m\u001b[1;33m\u001b[0m\u001b[1;33m\u001b[0m\u001b[0m\n",
      "\u001b[1;31mTypeError\u001b[0m: 'map' object is not subscriptable"
     ]
    }
   ],
   "source": [
    "button = int(input())\n",
    "norm_press_button = list(map(int, input().split()))\n",
    "number_press = int(input())\n",
    "spb = list(map(int, input().split()))\n",
    "dict_clic = {}\n",
    "for i in range(number_press):\n",
    "    dict_clic[spb[i]] = dict_clic.get(spb[i],0)+1\n",
    "for i in range(button):\n",
    "    print(('NO','YES')[dict_clic[i+1] > norm_press_button[i]])"
   ]
  },
  {
   "cell_type": "markdown",
   "metadata": {},
   "source": [
    "# Задача 10"
   ]
  },
  {
   "cell_type": "code",
   "execution_count": 2,
   "metadata": {},
   "outputs": [
    {
     "name": "stdout",
     "output_type": "stream",
     "text": [
      "3\n",
      "3 "
     ]
    }
   ],
   "source": [
    "def CountSort(list):\n",
    "    sortedList = [0] * 101\n",
    "    for i in list:\n",
    "        sortedList[i] += 1\n",
    "    for i in range(101):\n",
    "        print((str(i) + ' ') * sortedList[i], end='')\n",
    " \n",
    " \n",
    "list = [int(i) for i in input().split()]\n",
    "CountSort(list)"
   ]
  },
  {
   "cell_type": "markdown",
   "metadata": {},
   "source": [
    "# Задача 11"
   ]
  },
  {
   "cell_type": "code",
   "execution_count": 2,
   "metadata": {},
   "outputs": [
    {
     "name": "stdout",
     "output_type": "stream",
     "text": [
      "3\n",
      "Ann 15\n",
      "Kate 30\n",
      "Sofiya 20\n",
      "Kate\n",
      "Sofiya\n",
      "Ann\n"
     ]
    }
   ],
   "source": [
    "num = int(input())\n",
    "members = [input().split() for _ in range(num)]\n",
    "for i in sorted(members, key=lambda x: int(x[1]), reverse=True):\n",
    "    print(i[0])"
   ]
  },
  {
   "cell_type": "markdown",
   "metadata": {},
   "source": [
    "# Задача 12"
   ]
  },
  {
   "cell_type": "code",
   "execution_count": 3,
   "metadata": {},
   "outputs": [
    {
     "name": "stdout",
     "output_type": "stream",
     "text": [
      "10 20 30\n",
      "50 20 30\n",
      "1700\n"
     ]
    }
   ],
   "source": [
    "tariffs = sorted([int(s) for s in input().split()])\n",
    "distances = sorted([int(s) for s in input().split()], reverse=True)\n",
    "print(sum(t*d for t, d in zip(tariffs, distances)))"
   ]
  },
  {
   "cell_type": "markdown",
   "metadata": {},
   "source": [
    "# Задача 13"
   ]
  },
  {
   "cell_type": "code",
   "execution_count": 4,
   "metadata": {},
   "outputs": [
    {
     "name": "stdout",
     "output_type": "stream",
     "text": [
      "8(950)056-47-14\n",
      "+7-9-5-0-05-647-10\n",
      "8950056\n",
      "4-3-0\n",
      "NO\n",
      "NO\n",
      "NO\n"
     ]
    }
   ],
   "source": [
    "def reformat(string):\n",
    "    string = string.replace('-', '').replace('(', '').replace(')', '')\n",
    "    return string[-10:] if len(string)>7 else '495' + string[-7:]\n",
    " \n",
    "n = 4\n",
    "notes = [input() for _ in range(n)]\n",
    "for note in notes[1:]:\n",
    "    print('YES' if reformat(notes[0]) == reformat(note) else 'NO')"
   ]
  },
  {
   "cell_type": "markdown",
   "metadata": {},
   "source": [
    "# Задача 14"
   ]
  },
  {
   "cell_type": "code",
   "execution_count": 5,
   "metadata": {},
   "outputs": [
    {
     "name": "stdout",
     "output_type": "stream",
     "text": [
      "2\n",
      "Russia Moscow Petersburg Novgorod Kaluga\n",
      "Ukraine Kiev Donetsk Odessa\n",
      "3\n",
      "Odessa\n",
      "Ukraine\n",
      "Moscow\n",
      "Russia\n",
      "Novgorod\n",
      "Russia\n"
     ]
    }
   ],
   "source": [
    "motherland = {}\n",
    "for i in range(int(input())):\n",
    "    country, *cities = input().split()\n",
    "    for city in cities:\n",
    "        motherland[city] = country\n",
    "         \n",
    "for i in range(int(input())):\n",
    "    print(motherland[input()])"
   ]
  },
  {
   "cell_type": "markdown",
   "metadata": {},
   "source": [
    "# Задача 15"
   ]
  },
  {
   "cell_type": "code",
   "execution_count": 6,
   "metadata": {},
   "outputs": [
    {
     "name": "stdout",
     "output_type": "stream",
     "text": [
      "apple orange banana banana orange\n"
     ]
    },
    {
     "data": {
      "text/plain": [
       "'banana'"
      ]
     },
     "execution_count": 6,
     "metadata": {},
     "output_type": "execute_result"
    }
   ],
   "source": [
    "def most_common(t):\n",
    "    return sorted(((x, t.count(x)) for x in set(t.split())), key=lambda x: (-x[1], x[0]))[0][0]\n",
    "most_common(input())"
   ]
  },
  {
   "cell_type": "markdown",
   "metadata": {},
   "source": [
    "# Задача 16"
   ]
  },
  {
   "cell_type": "code",
   "execution_count": 1,
   "metadata": {},
   "outputs": [
    {
     "name": "stdout",
     "output_type": "stream",
     "text": [
      "hi hi what is your name my name is bond james bond my name is damme van damme claude van damme jean claude van damme\n",
      "['damme', 'is', 'name', 'van', 'bond', 'claude', 'hi', 'my', 'james', 'jean', 'what', 'your']\n"
     ]
    }
   ],
   "source": [
    "s = input()\n",
    "lst = [word for line in s.split('\\n') for word in line.split()]\n",
    "print(sorted(set(lst), key=lambda x: (-lst.count(x), x)))"
   ]
  },
  {
   "cell_type": "markdown",
   "metadata": {},
   "source": [
    "# Задача 17"
   ]
  },
  {
   "cell_type": "code",
   "execution_count": null,
   "metadata": {},
   "outputs": [
    {
     "name": "stdout",
     "output_type": "stream",
     "text": [
      "DEPOSIT SAM 150\n",
      "INCOME 3\n",
      "BALANCE SAM\n",
      "154\n",
      "TRANSFER SAM DEN 45\n",
      "WITHDRAW DEN 32\n",
      "BALANCE SAM\n",
      "109\n",
      "BALANCE KATE\n",
      "ERROR\n"
     ]
    }
   ],
   "source": [
    "def deposit(arg):\n",
    "    name, money = arg\n",
    "    bank[name] = bank.setdefault(name, 0) + int(money)\n",
    "def withdraw(arg):\n",
    "    name, money = arg\n",
    "    bank[name] = bank.setdefault(name, 0) - int(money)\n",
    "def balance(arg):\n",
    "    name = arg[0]\n",
    "    if name in bank:\n",
    "        print(bank[name])\n",
    "    else:\n",
    "        print('ERROR')\n",
    "def transfer(arg):\n",
    "    name_1, name_2, money = arg\n",
    "    for name in (name_1, name_2):\n",
    "        if name not in bank:\n",
    "            deposit((name,0))        \n",
    "    withdraw((name_1, money))\n",
    "    deposit((name_2, money))\n",
    "def income(arg):\n",
    "    percent = int(arg[0])\n",
    "    for name, balanse in bank.items():\n",
    "        if balanse > 0:\n",
    "            bank[name] = bank.get(name) + balanse * percent//100\n",
    "bank = {}\n",
    "bank_fun = {\n",
    "                        'DEPOSIT' : deposit, 'WITHDRAW' : withdraw,\n",
    "                        'BALANCE' : balance, 'TRANSFER' : transfer,\n",
    "                        'INCOME' : income\n",
    "                    }\n",
    "while 1:\n",
    "    data = input().split()\n",
    "    fun_name = data[0]\n",
    "    arg = data[1:]\n",
    "    bank_fun[fun_name](arg)"
   ]
  },
  {
   "cell_type": "markdown",
   "metadata": {},
   "source": [
    "# Задача 18"
   ]
  },
  {
   "cell_type": "code",
   "execution_count": 1,
   "metadata": {},
   "outputs": [
    {
     "name": "stdout",
     "output_type": "stream",
     "text": [
      "3\n",
      "Anna Sokolova\n",
      "Pollina Ivanova\n",
      "Anna 1\n",
      "Ivanova 0\n",
      "Pollina 1\n",
      "Sokolova 0\n"
     ]
    }
   ],
   "source": [
    "def height(man):\n",
    "    if man not in p_tree:\n",
    "        return 0\n",
    "    else:\n",
    "        return 1 + height(p_tree[man])\n",
    "p_tree = {}\n",
    "n = int(input())\n",
    "for i in range(n - 1):\n",
    "    child, parent = input().split()\n",
    "    p_tree[child] = parent\n",
    "heights = {}\n",
    "for man in set(p_tree.keys()).union(set(p_tree.values())):\n",
    "    heights[man] = height(man)\n",
    "for key, value in sorted(heights.items()):\n",
    "    print(key, value)"
   ]
  },
  {
   "cell_type": "markdown",
   "metadata": {},
   "source": [
    "# Задача 19"
   ]
  },
  {
   "cell_type": "code",
   "execution_count": 2,
   "metadata": {},
   "outputs": [
    {
     "name": "stdout",
     "output_type": "stream",
     "text": [
      "1 1 3 2 1 1 2 2 2\n",
      "3\n"
     ]
    }
   ],
   "source": [
    "print(len(set(input().split())))"
   ]
  },
  {
   "cell_type": "markdown",
   "metadata": {},
   "source": [
    "# Задача 20"
   ]
  },
  {
   "cell_type": "code",
   "execution_count": 3,
   "metadata": {},
   "outputs": [
    {
     "name": "stdout",
     "output_type": "stream",
     "text": [
      "She sells sea shells on the sea shore; The shells that she sells are sea shells I'm sure. So if she sells sea shells on the sea shore, I'm sure that the shells are sea shore shells.\n",
      "19\n"
     ]
    }
   ],
   "source": [
    "iin_file = input()\n",
    "a = []\n",
    "for i in iin_file.split('\\n'):\n",
    "    a += i.split()\n",
    "print(len(set(a)))"
   ]
  },
  {
   "cell_type": "markdown",
   "metadata": {},
   "source": [
    "# Задача 21"
   ]
  },
  {
   "cell_type": "code",
   "execution_count": 4,
   "metadata": {},
   "outputs": [
    {
     "name": "stdout",
     "output_type": "stream",
     "text": [
      "1 1 1 0\n",
      "0 1 1 0\n",
      "1 0 0 0\n"
     ]
    }
   ],
   "source": [
    "a = input()\n",
    "b = input()\n",
    "c = ' '.join(map(lambda a, b : str(int(a != b)), a.split(), b.split()))\n",
    "print(c)"
   ]
  },
  {
   "cell_type": "markdown",
   "metadata": {},
   "source": [
    "# Задача 22"
   ]
  },
  {
   "cell_type": "code",
   "execution_count": 5,
   "metadata": {},
   "outputs": [
    {
     "name": "stdout",
     "output_type": "stream",
     "text": [
      "4\n",
      "1 1 2 6 24\n"
     ]
    }
   ],
   "source": [
    "from itertools import accumulate\n",
    "n = int(input())\n",
    "a = []\n",
    "for i in range(n+1):\n",
    "    a.append(i)\n",
    "a = map(lambda x: max(x,1), a)\n",
    "print(*accumulate(a, lambda x, y: x * y))"
   ]
  },
  {
   "cell_type": "markdown",
   "metadata": {},
   "source": [
    "# Задача 23"
   ]
  },
  {
   "cell_type": "code",
   "execution_count": 6,
   "metadata": {},
   "outputs": [
    {
     "name": "stdout",
     "output_type": "stream",
     "text": [
      "8\n",
      "[2, 3, 5, 7]\n"
     ]
    }
   ],
   "source": [
    "N = int(input())\n",
    "res = []\n",
    "for k in range(2, N+1):\n",
    " \n",
    "    prime = True\n",
    "    \n",
    "    for i in range(2, k):\n",
    "        if k%i == 0:\n",
    "            prime = False\n",
    "            break\n",
    " \n",
    "    if prime:\n",
    "        res.append(k)\n",
    "print(res)"
   ]
  },
  {
   "cell_type": "markdown",
   "metadata": {},
   "source": [
    "# Задача 24"
   ]
  },
  {
   "cell_type": "code",
   "execution_count": 7,
   "metadata": {},
   "outputs": [
    {
     "name": "stdout",
     "output_type": "stream",
     "text": [
      "3 2\n",
      "2 1 2 3\n",
      "1 2 3 2 \n",
      "3 2 1\n"
     ]
    }
   ],
   "source": [
    "import itertools\n",
    "import functools\n",
    "print(*(tuple([[[0]]]) + tuple(*map(lambda data: filter(lambda x: tuple(x[0]) == x[1],\n",
    "        map(lambda var: (filter(lambda sta: ((var.index(sta[0]) >= var.index(sta[1])) ^ (var.index(sta[2]) >= var.index(sta[3]))), data[1]), data[1], var + data[2]), data[0])), map(lambda x: (itertools.permutations(set(functools.reduce(lambda x,y: x + y ,x[1]))), x[1], tuple(set(range(1, x[0] + 1)) - set(functools.reduce(lambda x,y: x + y ,x[1])))), map(lambda vvod: (next(vvod), tuple(set(map(lambda y: tuple(y), map(lambda x: map(int, input().split()), range(next(vvod))))))), [map(int, input().split())])))))[-1][-1])"
   ]
  }
 ],
 "metadata": {
  "kernelspec": {
   "display_name": "Python 3",
   "language": "python",
   "name": "python3"
  },
  "language_info": {
   "codemirror_mode": {
    "name": "ipython",
    "version": 3
   },
   "file_extension": ".py",
   "mimetype": "text/x-python",
   "name": "python",
   "nbconvert_exporter": "python",
   "pygments_lexer": "ipython3",
   "version": "3.7.6"
  }
 },
 "nbformat": 4,
 "nbformat_minor": 4
}
