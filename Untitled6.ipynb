{
 "cells": [
  {
   "cell_type": "markdown",
   "metadata": {},
   "source": [
    "# Задача 1"
   ]
  },
  {
   "cell_type": "code",
   "execution_count": 1,
   "metadata": {},
   "outputs": [
    {
     "name": "stdout",
     "output_type": "stream",
     "text": [
      "3\n",
      "1.3611111111111112\n"
     ]
    }
   ],
   "source": [
    "n = int(input())\n",
    "i = 1\n",
    "s = 0\n",
    "while i<=n:\n",
    "    s+=1/i**2\n",
    "    i+=1\n",
    "print(s)"
   ]
  },
  {
   "cell_type": "markdown",
   "metadata": {},
   "source": [
    "# Задача 2"
   ]
  },
  {
   "cell_type": "code",
   "execution_count": 3,
   "metadata": {},
   "outputs": [
    {
     "name": "stdout",
     "output_type": "stream",
     "text": [
      "4.123\n",
      "0.12300000000000022\n"
     ]
    }
   ],
   "source": [
    "n = float(input())\n",
    "x = n - int(n)\n",
    "print(x)"
   ]
  },
  {
   "cell_type": "markdown",
   "metadata": {},
   "source": [
    "# Задача 3"
   ]
  },
  {
   "cell_type": "code",
   "execution_count": 5,
   "metadata": {},
   "outputs": [
    {
     "name": "stdout",
     "output_type": "stream",
     "text": [
      "78.45\n",
      "78 45\n"
     ]
    }
   ],
   "source": [
    "n = float(input())\n",
    "p = int(n)\n",
    "k = int((n - int(n))*100)\n",
    "print(\"{} {}\".format(p, k))"
   ]
  },
  {
   "cell_type": "markdown",
   "metadata": {},
   "source": [
    "# Задача 4"
   ]
  },
  {
   "cell_type": "code",
   "execution_count": 7,
   "metadata": {},
   "outputs": [
    {
     "name": "stdout",
     "output_type": "stream",
     "text": [
      "2.8\n",
      "3\n"
     ]
    }
   ],
   "source": [
    "n = float(input())\n",
    "if (n - int(n))>=0.5:\n",
    "    n = int(n)+1\n",
    "else:\n",
    "    n = int(n)\n",
    "print(n)"
   ]
  },
  {
   "cell_type": "markdown",
   "metadata": {},
   "source": [
    "# Задача 5"
   ]
  },
  {
   "cell_type": "code",
   "execution_count": 8,
   "metadata": {},
   "outputs": [
    {
     "name": "stdout",
     "output_type": "stream",
     "text": [
      "745\n",
      "54\n",
      "9\n",
      "457 6\n"
     ]
    }
   ],
   "source": [
    "p = int(input())\n",
    "x = int(input())\n",
    "y = int(input())\n",
    "money_before = 100 * x + y\n",
    "money_after = int(money_before * (100 + p) / 100)\n",
    "print(money_after // 100, money_after % 100)"
   ]
  },
  {
   "cell_type": "markdown",
   "metadata": {},
   "source": [
    "# Задача 6"
   ]
  },
  {
   "cell_type": "code",
   "execution_count": 9,
   "metadata": {},
   "outputs": [
    {
     "name": "stdout",
     "output_type": "stream",
     "text": [
      "897\n",
      "64\n",
      "64\n",
      "5\n",
      "6367605.7\n"
     ]
    }
   ],
   "source": [
    "p = int(input())\n",
    "\n",
    "x = int(input())\n",
    "\n",
    "y = int(input())\n",
    "\n",
    "k=int(input())\n",
    "\n",
    "x=x+y/100\n",
    "\n",
    "r=x\n",
    "\n",
    "for i in range(k):\n",
    "\n",
    "  r+=r*(p/100)\n",
    "\n",
    "  r=int(r*100)/100\n",
    "\n",
    "print(r)"
   ]
  },
  {
   "cell_type": "markdown",
   "metadata": {},
   "source": [
    "# Задача 7"
   ]
  },
  {
   "cell_type": "code",
   "execution_count": 8,
   "metadata": {},
   "outputs": [
    {
     "name": "stdout",
     "output_type": "stream",
     "text": [
      "2\n",
      "0.5\n",
      "1\n",
      "1\n",
      "1\n",
      "1.75\n"
     ]
    }
   ],
   "source": [
    "n = int(input())\n",
    "x = float(input())\n",
    "i = 0\n",
    "p = 0\n",
    "while i<=n:\n",
    "    a = float(input())\n",
    "    if i!=n:\n",
    "        p+=a*x**(n-i)\n",
    "    else:\n",
    "        p = p+a\n",
    "    i+=1\n",
    "print(p)"
   ]
  },
  {
   "cell_type": "markdown",
   "metadata": {},
   "source": [
    "# Задача 8"
   ]
  },
  {
   "cell_type": "code",
   "execution_count": 6,
   "metadata": {},
   "outputs": [
    {
     "name": "stdout",
     "output_type": "stream",
     "text": [
      "1\n",
      "7\n",
      "9\n",
      "0\n",
      "4.163331998932266\n"
     ]
    }
   ],
   "source": [
    "from math import sqrt\n",
    " \n",
    "partial_sum = 0\n",
    "partial_sum_squares = 0\n",
    "x_i = int(input())\n",
    "n = 0\n",
    "while x_i != 0:\n",
    "    n += 1\n",
    "    partial_sum += x_i\n",
    "    partial_sum_squares += x_i ** 2\n",
    "    x_i = int(input())\n",
    "print(sqrt((partial_sum_squares - partial_sum ** 2 / n) / (n - 1)))"
   ]
  },
  {
   "cell_type": "markdown",
   "metadata": {},
   "source": [
    "# Задача 9"
   ]
  },
  {
   "cell_type": "code",
   "execution_count": 10,
   "metadata": {},
   "outputs": [
    {
     "name": "stdout",
     "output_type": "stream",
     "text": [
      "1\n",
      "-7.5\n",
      "3\n",
      "7.076033673912518 0.4239663260874824\n"
     ]
    }
   ],
   "source": [
    "a = float(input())\n",
    "b = float(input())\n",
    "c = float(input())\n",
    "d = b*b - 4*a*c\n",
    "x1 = (-b+sqrt(d))/2*a\n",
    "x2 = (-b-sqrt(d))/2*a\n",
    "print(\"{} {}\".format(x1, x2))"
   ]
  },
  {
   "cell_type": "markdown",
   "metadata": {},
   "source": [
    "# Задача 10"
   ]
  },
  {
   "cell_type": "code",
   "execution_count": 5,
   "metadata": {},
   "outputs": [
    {
     "name": "stdout",
     "output_type": "stream",
     "text": [
      "4\n",
      "5\n",
      "6\n",
      "0\n"
     ]
    }
   ],
   "source": [
    "a = float(input())\n",
    "b = float(input())\n",
    "c = float(input())\n",
    "D = ((b) ** 2) - (4 * a * c)\n",
    "if a == 0:\n",
    "    if b == 0 and (c == 0 or c != 0):\n",
    "        print(3)\n",
    "    if b != 0 and (c != 0 or c == 0):\n",
    "        x = -(c / b)\n",
    "        print(x)\n",
    "else:\n",
    "    if D > 0:\n",
    "        x1 = ((-b) - (D ** 0.5)) / (2 * a)\n",
    "        x2 = ((-b) + (D ** 0.5)) / (2 * a)\n",
    "        if x1 < x2:\n",
    "            x2, x1 = x1, x2\n",
    "        print(2,x2,x1)\n",
    "    elif D == 0:\n",
    "        x = (-b) / (2 * a)\n",
    "        print(1,x)\n",
    "    elif D < 0:\n",
    "        print(0)"
   ]
  },
  {
   "cell_type": "markdown",
   "metadata": {},
   "source": [
    "# Задача 11"
   ]
  },
  {
   "cell_type": "code",
   "execution_count": 7,
   "metadata": {},
   "outputs": [
    {
     "name": "stdout",
     "output_type": "stream",
     "text": [
      "4\n",
      "5\n",
      "6\n",
      "7\n",
      "8\n",
      "9\n",
      "-5.5 6\n"
     ]
    }
   ],
   "source": [
    "def deleteZeros(x):\n",
    "    if x == int(x):\n",
    "        x = int(x)\n",
    "    elif len(str((x - int(x)))) > 8:\n",
    "        if x < 1:\n",
    "            x = (int(x * 10**6)) / (10**6)\n",
    "        else:\n",
    "            x = (int(x * 10**5)) / (10**5)\n",
    "    else:\n",
    "        x = str(x)\n",
    "        while x[-1] == '0':\n",
    "            x = x[:-1]\n",
    "    return x\n",
    " \n",
    "a = float(input())\n",
    "b = float(input())\n",
    "c = float(input())\n",
    "d = float(input())\n",
    "e = float(input())\n",
    "f = float(input())\n",
    "y = float(y) \n",
    "y = (a * f - c * e) / (a * d - b * c)\n",
    " \n",
    "if a != 0:\n",
    "    x = (e - b * y) / a\n",
    "else:\n",
    "    x = (c * d - b * f) / (a * d - b * c)\n",
    "    y = (e - a * x) / b\n",
    "print(deleteZeros(x), deleteZeros(y))\n"
   ]
  },
  {
   "cell_type": "markdown",
   "metadata": {},
   "source": [
    "# Задача 12"
   ]
  },
  {
   "cell_type": "code",
   "execution_count": 8,
   "metadata": {},
   "outputs": [
    {
     "name": "stdout",
     "output_type": "stream",
     "text": [
      "2\n",
      "1\n",
      "3\n",
      "0\n"
     ]
    }
   ],
   "source": [
    "a = float(input())\n",
    "b = float(input())\n",
    "c = float(input())\n",
    "D = ((b) ** 2) - (4 * a * c)\n",
    "if a == 0:\n",
    "    if b == 0 and (c == 0 or c != 0):\n",
    "        print(3)\n",
    "    if b != 0 and (c != 0 or c == 0):\n",
    "        x = -(c / b)\n",
    "        print(x)\n",
    "else:\n",
    "    if D > 0:\n",
    "        x1 = ((-b) - (D ** 0.5)) / (2 * a)\n",
    "        x2 = ((-b) + (D ** 0.5)) / (2 * a)\n",
    "        if x1 < x2:\n",
    "            x2, x1 = x1, x2\n",
    "        print(2,x2,x1)\n",
    "    elif D == 0:\n",
    "        x = (-b) / (2 * a)\n",
    "        print(1,x)\n",
    "    elif D < 0:\n",
    "        print(0)"
   ]
  },
  {
   "cell_type": "markdown",
   "metadata": {},
   "source": [
    "# Задача 13"
   ]
  },
  {
   "cell_type": "code",
   "execution_count": 1,
   "metadata": {},
   "outputs": [
    {
     "name": "stdout",
     "output_type": "stream",
     "text": [
      "123456789\n",
      "3\n",
      "8\n",
      "12345\n",
      "7\n",
      "13579\n",
      "2468\n",
      "987654321\n",
      "97531\n",
      "9\n"
     ]
    }
   ],
   "source": [
    "s = str(input())\n",
    "print(s[2]) #1\n",
    "n = len(s)\n",
    "print(s[n-2]) #2\n",
    "print(s[:5]) #3\n",
    "print(s[n-3]) #4\n",
    "s5 = s[0]\n",
    "i = 1\n",
    "while i<n:\n",
    "    if i%2==0:\n",
    "        s5+=s[i]\n",
    "    i+=1\n",
    "print(s5)#5\n",
    "s6 = s[1]\n",
    "i = 2\n",
    "while i<n:\n",
    "    if i%2!=0:\n",
    "        s6+=s[i]\n",
    "    i+=1\n",
    "print(s6)#6\n",
    "print(s[::-1])#7\n",
    "sx = s[::-1]\n",
    "s8 = sx[0]\n",
    "i = 1\n",
    "while i<n:\n",
    "    if i%2==0:\n",
    "        s8+=sx[i]\n",
    "    i+=1\n",
    "print(s8)#8\n",
    "print(n)"
   ]
  },
  {
   "cell_type": "markdown",
   "metadata": {},
   "source": [
    "# Задача 14"
   ]
  },
  {
   "cell_type": "code",
   "execution_count": 2,
   "metadata": {},
   "outputs": [
    {
     "name": "stdout",
     "output_type": "stream",
     "text": [
      "fawerdv\n",
      "0\n"
     ]
    }
   ],
   "source": [
    "s = input()\n",
    "if s.count('f') == 1:\n",
    "    print(s.find('f'))\n",
    "elif s.count('f') >= 2:\n",
    "    print(s.find('f'), s.rfind('f'))"
   ]
  },
  {
   "cell_type": "markdown",
   "metadata": {},
   "source": [
    "# Задача 15"
   ]
  },
  {
   "cell_type": "code",
   "execution_count": 3,
   "metadata": {},
   "outputs": [
    {
     "name": "stdout",
     "output_type": "stream",
     "text": [
      "sgdhjkj,mnbfgh\n",
      "sgd\n"
     ]
    }
   ],
   "source": [
    "s = input()\n",
    "s = s[:s.find('h')] + s[s.rfind('h') + 1:]\n",
    "print(s)"
   ]
  },
  {
   "cell_type": "markdown",
   "metadata": {},
   "source": [
    "# Задача 16"
   ]
  },
  {
   "cell_type": "code",
   "execution_count": 4,
   "metadata": {},
   "outputs": [
    {
     "name": "stdout",
     "output_type": "stream",
     "text": [
      "ynhopohgthgbnn\n",
      "ynhtghopohgbnn\n"
     ]
    }
   ],
   "source": [
    "s = input()\n",
    "a = s[:s.find('h')] \n",
    "b = s[s.find('h'):s.rfind('h') + 1]\n",
    "c = s[s.rfind('h') + 1:]\n",
    "s = a + b[::-1] + c\n",
    "print(s)"
   ]
  },
  {
   "cell_type": "markdown",
   "metadata": {},
   "source": [
    "# Задача 17"
   ]
  },
  {
   "cell_type": "code",
   "execution_count": 5,
   "metadata": {},
   "outputs": [
    {
     "name": "stdout",
     "output_type": "stream",
     "text": [
      "fgjhmgfcvbg\n",
      "6\n"
     ]
    }
   ],
   "source": [
    "s = input()\n",
    "if s.count('f') == 1:\n",
    "    print(-1)\n",
    "elif s.count('f') < 1:\n",
    "    print(-2)\n",
    "else:\n",
    "    print(s.find('f', s.find('f') + 1))\n"
   ]
  },
  {
   "cell_type": "markdown",
   "metadata": {},
   "source": [
    "# Задача 18"
   ]
  },
  {
   "cell_type": "code",
   "execution_count": 6,
   "metadata": {},
   "outputs": [
    {
     "name": "stdout",
     "output_type": "stream",
     "text": [
      "dfhjgkhjmgfhgtjy\n",
      "dfhjgkhjmgfhgtjy dfhjgkhjmgfhgtj\n"
     ]
    }
   ],
   "source": [
    "s = input()\n",
    "first_word = s[:s.find(' ')]\n",
    "second_word = s[s.find(' ') + 1:]\n",
    "print(second_word + ' ' + first_word)"
   ]
  },
  {
   "cell_type": "markdown",
   "metadata": {},
   "source": [
    "# Задача 19"
   ]
  },
  {
   "cell_type": "code",
   "execution_count": 1,
   "metadata": {},
   "outputs": [
    {
     "name": "stdout",
     "output_type": "stream",
     "text": [
      "serthb drthb ertghv kjhgfv lkjuytrfdsxcfvgbhn\n",
      "5\n"
     ]
    }
   ],
   "source": [
    "print(input().count(' ')+1)"
   ]
  },
  {
   "cell_type": "markdown",
   "metadata": {},
   "source": [
    "# Задача 20"
   ]
  },
  {
   "cell_type": "code",
   "execution_count": 2,
   "metadata": {},
   "outputs": [
    {
     "name": "stdout",
     "output_type": "stream",
     "text": [
      "1 1 1 1 \n",
      "one one one one \n"
     ]
    }
   ],
   "source": [
    "print(input().replace('1', 'one'))"
   ]
  },
  {
   "cell_type": "markdown",
   "metadata": {},
   "source": [
    "# Задача 21"
   ]
  },
  {
   "cell_type": "code",
   "execution_count": 3,
   "metadata": {},
   "outputs": [
    {
     "name": "stdout",
     "output_type": "stream",
     "text": [
      "@@@@dfghnmjhgvf erthg@\n",
      "dfghnmjhgvf erthg\n"
     ]
    }
   ],
   "source": [
    "print(input().replace('@', ''))"
   ]
  },
  {
   "cell_type": "markdown",
   "metadata": {},
   "source": [
    "# Задача 22"
   ]
  },
  {
   "cell_type": "code",
   "execution_count": 5,
   "metadata": {},
   "outputs": [
    {
     "name": "stdout",
     "output_type": "stream",
     "text": [
      "fvdfghhhhdfvtgb\n",
      "fvdfghHHhdfvtgb\n"
     ]
    }
   ],
   "source": [
    "s = input()\n",
    "a = s[:s.find('h') + 1] \n",
    "b = s[s.find('h') + 1:s.rfind('h')]\n",
    "c = s[s.rfind('h'):]\n",
    "s = a + b.replace('h', 'H') + c\n",
    "print(s)"
   ]
  },
  {
   "cell_type": "markdown",
   "metadata": {},
   "source": [
    "# Задача 23"
   ]
  },
  {
   "cell_type": "code",
   "execution_count": 7,
   "metadata": {},
   "outputs": [
    {
     "name": "stdout",
     "output_type": "stream",
     "text": [
      "ergfvd lug\n",
      "e*r*g*f*v*d* *l*u*g*\n"
     ]
    }
   ],
   "source": [
    "s=input()\n",
    "s1=''\n",
    "for i in s:\n",
    "    s1=s1+i+'*'\n",
    "print(s1)"
   ]
  },
  {
   "cell_type": "markdown",
   "metadata": {},
   "source": [
    "# Задача 24"
   ]
  },
  {
   "cell_type": "code",
   "execution_count": 8,
   "metadata": {},
   "outputs": [
    {
     "name": "stdout",
     "output_type": "stream",
     "text": [
      "yjukjhgb lkjhgf kjuytre\n",
      "jujhb kjgfkjyte\n"
     ]
    }
   ],
   "source": [
    "s = input()\n",
    "t = ''\n",
    "for i in range(len(s)):\n",
    "    if i % 3 != 0:\n",
    "        t = t + s[i]\n",
    "print(t)"
   ]
  }
 ],
 "metadata": {
  "kernelspec": {
   "display_name": "Python 3",
   "language": "python",
   "name": "python3"
  },
  "language_info": {
   "codemirror_mode": {
    "name": "ipython",
    "version": 3
   },
   "file_extension": ".py",
   "mimetype": "text/x-python",
   "name": "python",
   "nbconvert_exporter": "python",
   "pygments_lexer": "ipython3",
   "version": "3.7.6"
  }
 },
 "nbformat": 4,
 "nbformat_minor": 4
}
